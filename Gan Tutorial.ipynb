{
  "cells": [
    {
      "metadata": {
        "trusted": true
      },
      "cell_type": "code",
      "source": "# work only with Python 3\nimport tensorflow as tf\nimport random\nimport numpy as np\nimport matplotlib.pyplot as plt",
      "execution_count": 1,
      "outputs": [
        {
          "output_type": "stream",
          "text": "/home/nbuser/anaconda3_420/lib/python3.5/site-packages/matplotlib/font_manager.py:281: UserWarning: Matplotlib is building the font cache using fc-list. This may take a moment.\n  'Matplotlib is building the font cache using fc-list. '\n",
          "name": "stderr"
        }
      ]
    },
    {
      "metadata": {
        "trusted": true
      },
      "cell_type": "code",
      "source": "from tensorflow.examples.tutorials.mnist import input_data\nmnist = input_data.read_data_sets(\"MNIST_data/\")",
      "execution_count": 2,
      "outputs": [
        {
          "output_type": "stream",
          "text": "/home/nbuser/anaconda3_420/lib/python3.5/site-packages/h5py/__init__.py:36: FutureWarning: Conversion of the second argument of issubdtype from `float` to `np.floating` is deprecated. In future, it will be treated as `np.float64 == np.dtype(float).type`.\n  from ._conv import register_converters as _register_converters\n",
          "name": "stderr"
        },
        {
          "output_type": "stream",
          "text": "Successfully downloaded train-images-idx3-ubyte.gz 9912422 bytes.\nExtracting MNIST_data/train-images-idx3-ubyte.gz\nSuccessfully downloaded train-labels-idx1-ubyte.gz 28881 bytes.\nExtracting MNIST_data/train-labels-idx1-ubyte.gz\nSuccessfully downloaded t10k-images-idx3-ubyte.gz 1648877 bytes.\nExtracting MNIST_data/t10k-images-idx3-ubyte.gz\nSuccessfully downloaded t10k-labels-idx1-ubyte.gz 4542 bytes.\nExtracting MNIST_data/t10k-labels-idx1-ubyte.gz\n",
          "name": "stdout"
        }
      ]
    },
    {
      "metadata": {
        "trusted": true
      },
      "cell_type": "code",
      "source": "x_train = mnist.train.images[:55000,:]\nx_train.shape",
      "execution_count": 3,
      "outputs": [
        {
          "output_type": "execute_result",
          "execution_count": 3,
          "data": {
            "text/plain": "(55000, 784)"
          },
          "metadata": {}
        }
      ]
    },
    {
      "metadata": {
        "trusted": true
      },
      "cell_type": "code",
      "source": "randomNum = random.randint(0,55000)\nimage = x_train[randomNum].reshape([28,28])\nplt.imshow(image, cmap=plt.get_cmap('gray_r'))\nplt.show()",
      "execution_count": 4,
      "outputs": [
        {
          "output_type": "display_data",
          "data": {
            "image/png": "[encoded data removed]",
            "text/plain": "<matplotlib.figure.Figure at 0x7ff154385828>"
          },
          "metadata": {}
        }
      ]
    },
    {
      "metadata": {
        "trusted": true
      },
      "cell_type": "code",
      "source": "def conv2d(x, W):\n  return tf.nn.conv2d(input=x, filter=W, strides=[1, 1, 1, 1], padding='SAME')\n\ndef avg_pool_2x2(x):\n  return tf.nn.avg_pool(x, ksize=[1, 2, 2, 1], strides=[1, 2, 2, 1], padding='SAME')",
      "execution_count": 5,
      "outputs": []
    },
    {
      "metadata": {
        "trusted": true
      },
      "cell_type": "code",
      "source": "def discriminator(x_image, reuse=False):\n    with tf.variable_scope('discriminator') as scope:\n        if (reuse):\n            tf.get_variable_scope().reuse_variables()\n        #First Conv and Pool Layers\n        W_conv1 = tf.get_variable('d_wconv1', [5, 5, 1, 8], initializer=tf.truncated_normal_initializer(stddev=0.02))\n        b_conv1 = tf.get_variable('d_bconv1', [8], initializer=tf.constant_initializer(0))\n        h_conv1 = tf.nn.relu(conv2d(x_image, W_conv1) + b_conv1)\n        h_pool1 = avg_pool_2x2(h_conv1)\n\n        #Second Conv and Pool Layers\n        W_conv2 = tf.get_variable('d_wconv2', [5, 5, 8, 16], initializer=tf.truncated_normal_initializer(stddev=0.02))\n        b_conv2 = tf.get_variable('d_bconv2', [16], initializer=tf.constant_initializer(0))\n        h_conv2 = tf.nn.relu(conv2d(h_pool1, W_conv2) + b_conv2)\n        h_pool2 = avg_pool_2x2(h_conv2)\n\n        #First Fully Connected Layer\n        W_fc1 = tf.get_variable('d_wfc1', [7 * 7 * 16, 32], initializer=tf.truncated_normal_initializer(stddev=0.02))\n        b_fc1 = tf.get_variable('d_bfc1', [32], initializer=tf.constant_initializer(0))\n        h_pool2_flat = tf.reshape(h_pool2, [-1, 7*7*16])\n        h_fc1 = tf.nn.relu(tf.matmul(h_pool2_flat, W_fc1) + b_fc1)\n\n        #Second Fully Connected Layer\n        W_fc2 = tf.get_variable('d_wfc2', [32, 1], initializer=tf.truncated_normal_initializer(stddev=0.02))\n        b_fc2 = tf.get_variable('d_bfc2', [1], initializer=tf.constant_initializer(0))\n\n        #Final Layer\n        y_conv=(tf.matmul(h_fc1, W_fc2) + b_fc2)\n    return y_conv",
      "execution_count": 6,
      "outputs": []
    },
    {
      "metadata": {
        "trusted": true
      },
      "cell_type": "code",
      "source": "def generator(z, batch_size, z_dim, reuse=False):\n    with tf.variable_scope('generator') as scope:\n        if (reuse):\n            tf.get_variable_scope().reuse_variables()\n        g_dim = 64 #Number of filters of first layer of generator \n        c_dim = 1 #Color dimension of output (MNIST is grayscale, so c_dim = 1 for us)\n        s = 28 #Output size of the image\n        s2, s4, s8, s16 = int(s/2), int(s/4), int(s/8), int(s/16) #We want to slowly upscale the image, so these values will help\n                                                                  #make that change gradual.\n\n        h0 = tf.reshape(z, [batch_size, s16+1, s16+1, 25])\n        h0 = tf.nn.relu(h0)\n        #Dimensions of h0 = batch_size x 2 x 2 x 25\n\n        #First DeConv Layer\n        output1_shape = [batch_size, s8, s8, g_dim*4]\n        W_conv1 = tf.get_variable('g_wconv1', [5, 5, output1_shape[-1], int(h0.get_shape()[-1])], \n                                  initializer=tf.truncated_normal_initializer(stddev=0.1))\n        b_conv1 = tf.get_variable('g_bconv1', [output1_shape[-1]], initializer=tf.constant_initializer(.1))\n        H_conv1 = tf.nn.conv2d_transpose(h0, W_conv1, output_shape=output1_shape, \n                                         strides=[1, 2, 2, 1], padding='SAME') + b_conv1\n        H_conv1 = tf.contrib.layers.batch_norm(inputs = H_conv1, center=True, scale=True, is_training=True, scope=\"g_bn1\")\n        H_conv1 = tf.nn.relu(H_conv1)\n        #Dimensions of H_conv1 = batch_size x 3 x 3 x 256\n\n        #Second DeConv Layer\n        output2_shape = [batch_size, s4 - 1, s4 - 1, g_dim*2]\n        W_conv2 = tf.get_variable('g_wconv2', [5, 5, output2_shape[-1], int(H_conv1.get_shape()[-1])], \n                                  initializer=tf.truncated_normal_initializer(stddev=0.1))\n        b_conv2 = tf.get_variable('g_bconv2', [output2_shape[-1]], initializer=tf.constant_initializer(.1))\n        H_conv2 = tf.nn.conv2d_transpose(H_conv1, W_conv2, output_shape=output2_shape, \n                                         strides=[1, 2, 2, 1], padding='SAME') + b_conv2\n        H_conv2 = tf.contrib.layers.batch_norm(inputs = H_conv2, center=True, scale=True, is_training=True, scope=\"g_bn2\")\n        H_conv2 = tf.nn.relu(H_conv2)\n        #Dimensions of H_conv2 = batch_size x 6 x 6 x 128\n\n        #Third DeConv Layer\n        output3_shape = [batch_size, s2 - 2, s2 - 2, g_dim*1]\n        W_conv3 = tf.get_variable('g_wconv3', [5, 5, output3_shape[-1], int(H_conv2.get_shape()[-1])], \n                                  initializer=tf.truncated_normal_initializer(stddev=0.1))\n        b_conv3 = tf.get_variable('g_bconv3', [output3_shape[-1]], initializer=tf.constant_initializer(.1))\n        H_conv3 = tf.nn.conv2d_transpose(H_conv2, W_conv3, output_shape=output3_shape, \n                                         strides=[1, 2, 2, 1], padding='SAME') + b_conv3\n        H_conv3 = tf.contrib.layers.batch_norm(inputs = H_conv3, center=True, scale=True, is_training=True, scope=\"g_bn3\")\n        H_conv3 = tf.nn.relu(H_conv3)\n        #Dimensions of H_conv3 = batch_size x 12 x 12 x 64\n\n        #Fourth DeConv Layer\n        output4_shape = [batch_size, s, s, c_dim]\n        W_conv4 = tf.get_variable('g_wconv4', [5, 5, output4_shape[-1], int(H_conv3.get_shape()[-1])], \n                                  initializer=tf.truncated_normal_initializer(stddev=0.1))\n        b_conv4 = tf.get_variable('g_bconv4', [output4_shape[-1]], initializer=tf.constant_initializer(.1))\n        H_conv4 = tf.nn.conv2d_transpose(H_conv3, W_conv4, output_shape=output4_shape, \n                                         strides=[1, 2, 2, 1], padding='VALID') + b_conv4\n        H_conv4 = tf.nn.tanh(H_conv4)\n        #Dimensions of H_conv4 = batch_size x 28 x 28 x 1\n\n    return H_conv4",
      "execution_count": 7,
      "outputs": []
    },
    {
      "metadata": {
        "trusted": true
      },
      "cell_type": "code",
      "source": "",
      "execution_count": null,
      "outputs": []
    }
  ],
  "metadata": {
    "kernelspec": {
      "name": "python3",
      "display_name": "Python 3",
      "language": "python"
    },
    "language_info": {
      "mimetype": "text/x-python",
      "nbconvert_exporter": "python",
      "name": "python",
      "pygments_lexer": "ipython3",
      "version": "3.5.4",
      "file_extension": ".py",
      "codemirror_mode": {
        "version": 3,
        "name": "ipython"
      }
    }
  },
  "nbformat": 4,
  "nbformat_minor": 2
}